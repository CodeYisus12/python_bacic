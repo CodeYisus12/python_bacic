{
 "cells": [
  {
   "cell_type": "markdown",
   "metadata": {},
   "source": [
    "##### Esta es la clase de python\n",
    "* variables\n",
    "* operadores matematicos basicos\n",
    "* operadores de comparacion\n",
    "* condicionales\n",
    "  - simples\n",
    "  - anidados\n",
    "  - encadenados\n",
    "* Estructuras de datos\n",
    "  - listas\n",
    "  - cadenas de caracteres\n",
    "  - diccionarios\n",
    "  - tuplas\n",
    "* Estructuras de control\n",
    "  - funciones\n",
    "  - ciclos finitos\n",
    "  - ciclos infinitos"
   ]
  },
  {
   "cell_type": "code",
   "execution_count": 5,
   "metadata": {},
   "outputs": [],
   "source": [
    "# variables en python\n",
    "name = \"josefino\""
   ]
  },
  {
   "cell_type": "code",
   "execution_count": 7,
   "metadata": {},
   "outputs": [
    {
     "data": {
      "text/plain": [
       "'josefino'"
      ]
     },
     "execution_count": 7,
     "metadata": {},
     "output_type": "execute_result"
    }
   ],
   "source": [
    "name"
   ]
  },
  {
   "cell_type": "code",
   "execution_count": 8,
   "metadata": {},
   "outputs": [],
   "source": [
    "# cuando la variable tiene mas de una palabra\n",
    "last_name  = \"primero\""
   ]
  },
  {
   "cell_type": "code",
   "execution_count": 10,
   "metadata": {},
   "outputs": [],
   "source": [
    "# mala practica\n",
    "Lastname=\"primero\""
   ]
  },
  {
   "cell_type": "code",
   "execution_count": 11,
   "metadata": {},
   "outputs": [
    {
     "ename": "NameError",
     "evalue": "name 'last' is not defined",
     "output_type": "error",
     "traceback": [
      "\u001b[1;31m---------------------------------------------------------------------------\u001b[0m",
      "\u001b[1;31mNameError\u001b[0m                                 Traceback (most recent call last)",
      "Cell \u001b[1;32mIn[11], line 1\u001b[0m\n\u001b[1;32m----> 1\u001b[0m \u001b[43mlast\u001b[49m\u001b[38;5;241m.\u001b[39mname \u001b[38;5;241m=\u001b[39m \u001b[38;5;124m\"\u001b[39m\u001b[38;5;124mprimero\u001b[39m\u001b[38;5;124m\"\u001b[39m\n",
      "\u001b[1;31mNameError\u001b[0m: name 'last' is not defined"
     ]
    }
   ],
   "source": [
    "#last.name = \"primero\"\n",
    "#last*name = \"primero\"\n",
    "#last-name = \"primero\"\n"
   ]
  },
  {
   "cell_type": "code",
   "execution_count": 12,
   "metadata": {},
   "outputs": [],
   "source": [
    "LastName = \"primero\""
   ]
  },
  {
   "cell_type": "code",
   "execution_count": 13,
   "metadata": {},
   "outputs": [
    {
     "data": {
      "text/plain": [
       "'primero'"
      ]
     },
     "execution_count": 13,
     "metadata": {},
     "output_type": "execute_result"
    }
   ],
   "source": [
    "LastName"
   ]
  },
  {
   "cell_type": "code",
   "execution_count": 14,
   "metadata": {},
   "outputs": [],
   "source": [
    "asdfghi = 12\n",
    "qwertyuiop = 10"
   ]
  },
  {
   "cell_type": "code",
   "execution_count": 21,
   "metadata": {},
   "outputs": [
    {
     "name": "stdout",
     "output_type": "stream",
     "text": [
      "El resultado de la suma es: 22\n",
      "El resultado de la resta es: 2\n",
      "El resultado de la multipicacion es: 120\n",
      "El resultado de la division es: 1.2\n"
     ]
    }
   ],
   "source": [
    "# operadores matematicos simples\n",
    "num_1 = 12\n",
    "num_2 = 10\n",
    "\n",
    "# sumas\n",
    "result_1 = num_1 + num_2\n",
    "\n",
    "# restas\n",
    "result_2 = num_1 - num_2\n",
    "\n",
    "# multiplicacion y division\n",
    "result_3 = num_1 * num_2\n",
    "\n",
    "result_4 = num_1 / num_2\n",
    "\n",
    "print(f\"El resultado de la suma es: {result_1}\")\n",
    "print(f\"El resultado de la resta es: {result_2}\")\n",
    "print(f\"El resultado de la multipicacion es: {result_3}\")\n",
    "print(f\"El resultado de la division es: {result_4}\")"
   ]
  },
  {
   "cell_type": "code",
   "execution_count": 25,
   "metadata": {},
   "outputs": [
    {
     "name": "stdout",
     "output_type": "stream",
     "text": [
      "Hola jjose!\n"
     ]
    }
   ],
   "source": [
    "# saludos\n",
    "nombre = input(\"¿Cómo te llamas? \")\n",
    "print(f\"Hola {nombre}!\")"
   ]
  },
  {
   "cell_type": "code",
   "execution_count": 27,
   "metadata": {},
   "outputs": [
    {
     "name": "stdout",
     "output_type": "stream",
     "text": [
      "El resultado de la suma es: 110.0\n",
      "El resultado de la resta es: 66.0\n",
      "El resultado de la multipicacion es: 1936.0\n",
      "El resultado de la division es: 4.0\n"
     ]
    }
   ],
   "source": [
    "# operadores matematicos simples\n",
    "num_1_str = input(\"Ingrese el primer numero: \")\n",
    "num_2_str = input(\"Ingrese el segundo numero: \")\n",
    "\n",
    "num_1 = int(num_1_str)  # Convert to integer\n",
    "num_2 = float(num_2_str)  # Convert to float\n",
    "\n",
    "result_2 = num_1 - num_2\n",
    "\n",
    "\n",
    "# sumas\n",
    "result_1 = num_1 + num_2\n",
    "\n",
    "# restas\n",
    "result_2 = num_1 - num_2\n",
    "\n",
    "# multiplicacion y division\n",
    "result_3 = num_1 * num_2\n",
    "\n",
    "result_4 = num_1 / num_2\n",
    "\n",
    "print(f\"El resultado de la suma es: {result_1}\")\n",
    "print(f\"El resultado de la resta es: {result_2}\")\n",
    "print(f\"El resultado de la multipicacion es: {result_3}\")\n",
    "print(f\"El resultado de la division es: {result_4}\")"
   ]
  },
  {
   "cell_type": "code",
   "execution_count": 28,
   "metadata": {},
   "outputs": [
    {
     "data": {
      "text/plain": [
       "int"
      ]
     },
     "execution_count": 28,
     "metadata": {},
     "output_type": "execute_result"
    }
   ],
   "source": [
    "num_1 = int(num_1_str)\n",
    "type(num_1)"
   ]
  },
  {
   "cell_type": "code",
   "execution_count": 32,
   "metadata": {},
   "outputs": [
    {
     "data": {
      "text/plain": [
       "True"
      ]
     },
     "execution_count": 32,
     "metadata": {},
     "output_type": "execute_result"
    }
   ],
   "source": [
    "# operadores de comparacion\n",
    "\n",
    "# mayor que >\n",
    "# menor que <\n",
    "# mayor igual que >=\n",
    "# menor igual que <=\n",
    "# igual ==\n",
    "# diferente !=\n",
    "\n",
    "10 != 20"
   ]
  },
  {
   "cell_type": "code",
   "execution_count": 34,
   "metadata": {},
   "outputs": [
    {
     "name": "stdout",
     "output_type": "stream",
     "text": [
      "xd\n"
     ]
    }
   ],
   "source": [
    "# condicionales\n",
    "name = input(\"Ingrese su nombre: \")\n",
    "\n",
    "#if condicion:\n",
    "  # hago algo\n",
    "  \n",
    "if name == \"jose\":\n",
    "    print(\"xd\")"
   ]
  },
  {
   "cell_type": "code",
   "execution_count": 41,
   "metadata": {},
   "outputs": [
    {
     "name": "stdout",
     "output_type": "stream",
     "text": [
      "menor que 10\n"
     ]
    }
   ],
   "source": [
    "# condicionales\n",
    "num = int(input(\"Ingrese un numero: \"))\n",
    "\n",
    "#if condicion:\n",
    "  # hago algo\n",
    "\n",
    "if num >= 10:\n",
    "    print(\"mayor o igual a 10\")\n",
    "else:\n",
    "    print(\"menor que 10\")"
   ]
  },
  {
   "cell_type": "code",
   "execution_count": 46,
   "metadata": {},
   "outputs": [
    {
     "name": "stdout",
     "output_type": "stream",
     "text": [
      "menor que 10\n"
     ]
    }
   ],
   "source": [
    "# condicionales\n",
    "num = int(input(\"Ingrese un numero: \"))\n",
    "\n",
    "#if condicion:\n",
    "  # hago algo\n",
    "\n",
    "if (num >= 10) and (num <= 20):\n",
    "    print(\"entre 10 y 20\")\n",
    "else:\n",
    "    print(\"fuera de rango\")"
   ]
  },
  {
   "cell_type": "code",
   "execution_count": null,
   "metadata": {},
   "outputs": [],
   "source": [
    "# Operadores\n",
    "# \"and\" \"or\" \"not\""
   ]
  },
  {
   "cell_type": "code",
   "execution_count": null,
   "metadata": {},
   "outputs": [],
   "source": [
    "# operadores matematicos simples\n",
    "num_1_str = input(\"Ingrese el primer numero: \")\n",
    "num_2_str = input(\"Ingrese el segundo numero: \")\n",
    "\n",
    "num_1 = int(num_1_str)  # Convert to integer\n",
    "num_2 = float(num_2_str)  # Convert to float\n",
    "\n",
    "result_2 = num_1 - num_2\n",
    "\n",
    "\n",
    "# sumas\n",
    "result_1 = num_1 + num_2\n",
    "\n",
    "# restas\n",
    "result_2 = num_1 - num_2\n",
    "\n",
    "# multiplicacion y division\n",
    "result_3 = num_1 * num_2\n",
    "\n",
    "result_4 = num_1 / num_2\n",
    "\n",
    "print(f\"El resultado de la suma es: {result_1}\")\n",
    "print(f\"El resultado de la resta es: {result_2}\")\n",
    "print(f\"El resultado de la multipicacion es: {result_3}\")\n",
    "print(f\"El resultado de la division es: {result_4}\")"
   ]
  }
 ],
 "metadata": {
  "kernelspec": {
   "display_name": "Python 3",
   "language": "python",
   "name": "python3"
  },
  "language_info": {
   "codemirror_mode": {
    "name": "ipython",
    "version": 3
   },
   "file_extension": ".py",
   "mimetype": "text/x-python",
   "name": "python",
   "nbconvert_exporter": "python",
   "pygments_lexer": "ipython3",
   "version": "3.11.9"
  }
 },
 "nbformat": 4,
 "nbformat_minor": 2
}
